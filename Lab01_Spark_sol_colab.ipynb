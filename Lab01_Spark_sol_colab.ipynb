{
  "cells": [
    {
      "cell_type": "markdown",
      "id": "ba587a03",
      "metadata": {
        "id": "ba587a03"
      },
      "source": [
        "# COMP7095 - Big Data Management"
      ]
    },
    {
      "cell_type": "markdown",
      "id": "7c252c15",
      "metadata": {
        "id": "7c252c15"
      },
      "source": [
        "## Spark Lab 1: Introduction to Spark"
      ]
    },
    {
      "cell_type": "markdown",
      "id": "293d3158",
      "metadata": {
        "id": "293d3158"
      },
      "source": [
        "### Introduction\n",
        "Spark is a general framework for distributed computing that offers high performance for both batch and interactive processing. It supports higher-level tools for SQL and structured data processing, machine learning, graph processing, and stream processing. It exposes APIs for Java, Python, and Scala. In our labs, we mainly use it with Python."
      ]
    },
    {
      "cell_type": "markdown",
      "id": "80810f68",
      "metadata": {
        "id": "80810f68"
      },
      "source": [
        "## Hand on\n",
        "We are going to use PySpark to load the data from a data file in TSV format and adopt PySpark to do some simply analysis. \n",
        "\n",
        "The file named as \"moview_reviews.tsv\" can be downloaded from the course moodle, too. \n",
        "\n",
        "Using the following code segments to understand how PySpark works.\n",
        "\n",
        "The size of the data file is around 65MB. and the following is the partial layout of the data file:\n",
        "```\n",
        "review\\tsentiment\n",
        "One of the other reviewer...\\tpositive\n",
        "A wonderful little produc...\\tpositive\n",
        "I thought this was a wond...\\tpositive\n",
        "Basically there's a famil...\\tnegative\n",
        "...\n",
        "```\n",
        "\n",
        "Note that values are seperated by a tab ('\\t')."
      ]
    },
    {
      "cell_type": "markdown",
      "id": "c0742d42",
      "metadata": {
        "id": "c0742d42"
      },
      "source": [
        "Import the required packages and get the instance of the Spark context:"
      ]
    },
    {
      "cell_type": "code",
      "execution_count": 1,
      "id": "c1892896",
      "metadata": {
        "colab": {
          "base_uri": "https://localhost:8080/"
        },
        "id": "c1892896",
        "outputId": "e958814e-76df-4d0e-b3ba-26ed820f71d4"
      },
      "outputs": [
        {
          "output_type": "stream",
          "name": "stdout",
          "text": [
            "Looking in indexes: https://pypi.org/simple, https://us-python.pkg.dev/colab-wheels/public/simple/\n",
            "Collecting pyspark\n",
            "  Downloading pyspark-3.3.1.tar.gz (281.4 MB)\n",
            "\u001b[2K     \u001b[90m━━━━━━━━━━━━━━━━━━━━━━━━━━━━━━━━━━━━━━━\u001b[0m \u001b[32m281.4/281.4 MB\u001b[0m \u001b[31m3.2 MB/s\u001b[0m eta \u001b[36m0:00:00\u001b[0m\n",
            "\u001b[?25h  Preparing metadata (setup.py) ... \u001b[?25l\u001b[?25hdone\n",
            "Collecting py4j==0.10.9.5\n",
            "  Downloading py4j-0.10.9.5-py2.py3-none-any.whl (199 kB)\n",
            "\u001b[2K     \u001b[90m━━━━━━━━━━━━━━━━━━━━━━━━━━━━━━━━━━━━━\u001b[0m \u001b[32m199.7/199.7 KB\u001b[0m \u001b[31m540.8 kB/s\u001b[0m eta \u001b[36m0:00:00\u001b[0m\n",
            "\u001b[?25hBuilding wheels for collected packages: pyspark\n",
            "  Building wheel for pyspark (setup.py) ... \u001b[?25l\u001b[?25hdone\n",
            "  Created wheel for pyspark: filename=pyspark-3.3.1-py2.py3-none-any.whl size=281845512 sha256=28e97763a829d1d4ec59a7419feabaef1e632a04f204201e9c84c87af93dd8f2\n",
            "  Stored in directory: /root/.cache/pip/wheels/43/dc/11/ec201cd671da62fa9c5cc77078235e40722170ceba231d7598\n",
            "Successfully built pyspark\n",
            "Installing collected packages: py4j, pyspark\n",
            "Successfully installed py4j-0.10.9.5 pyspark-3.3.1\n"
          ]
        }
      ],
      "source": [
        "# Install pyspark\n",
        "!pip install pyspark\n",
        "\n",
        "from pyspark import *\n",
        "from operator import add\n",
        "\n",
        "sc = SparkContext.getOrCreate()"
      ]
    },
    {
      "cell_type": "markdown",
      "id": "aa545c49",
      "metadata": {
        "id": "aa545c49"
      },
      "source": [
        "Define a function to split the values (review and sentiment) of each line."
      ]
    },
    {
      "cell_type": "code",
      "execution_count": 2,
      "id": "d5d1d9b7",
      "metadata": {
        "id": "d5d1d9b7"
      },
      "outputs": [],
      "source": [
        "def preprocess(line):\n",
        "    review, sentiment = line.split('\\t')\n",
        "    return sentiment, review"
      ]
    },
    {
      "cell_type": "markdown",
      "source": [
        "Upload your local file to Colab.\n",
        "\n",
        "This step requires you to first import the files module from the google.colab library:"
      ],
      "metadata": {
        "id": "Y8UpUGVMcyiv"
      },
      "id": "Y8UpUGVMcyiv"
    },
    {
      "cell_type": "code",
      "source": [
        "from google.colab import files"
      ],
      "metadata": {
        "id": "NIQwLjcNdBCX"
      },
      "id": "NIQwLjcNdBCX",
      "execution_count": 3,
      "outputs": []
    },
    {
      "cell_type": "markdown",
      "source": [
        "Uploading files from local file system using Python code.\n",
        "\n",
        "You use the upload method of the files object:"
      ],
      "metadata": {
        "id": "nUM6IfztdNce"
      },
      "id": "nUM6IfztdNce"
    },
    {
      "cell_type": "code",
      "source": [
        "uploaded = files.upload()"
      ],
      "metadata": {
        "colab": {
          "base_uri": "https://localhost:8080/",
          "height": 38
        },
        "id": "tDyPVKsddSzq",
        "outputId": "7b09e499-9e5d-4a0b-e997-253b93be5508"
      },
      "id": "tDyPVKsddSzq",
      "execution_count": 5,
      "outputs": [
        {
          "output_type": "display_data",
          "data": {
            "text/plain": [
              "<IPython.core.display.HTML object>"
            ],
            "text/html": [
              "\n",
              "     <input type=\"file\" id=\"files-9ce8ca71-24fe-408b-8abd-16b6f18eef15\" name=\"files[]\" multiple disabled\n",
              "        style=\"border:none\" />\n",
              "     <output id=\"result-9ce8ca71-24fe-408b-8abd-16b6f18eef15\">\n",
              "      Upload widget is only available when the cell has been executed in the\n",
              "      current browser session. Please rerun this cell to enable.\n",
              "      </output>\n",
              "      <script>// Copyright 2017 Google LLC\n",
              "//\n",
              "// Licensed under the Apache License, Version 2.0 (the \"License\");\n",
              "// you may not use this file except in compliance with the License.\n",
              "// You may obtain a copy of the License at\n",
              "//\n",
              "//      http://www.apache.org/licenses/LICENSE-2.0\n",
              "//\n",
              "// Unless required by applicable law or agreed to in writing, software\n",
              "// distributed under the License is distributed on an \"AS IS\" BASIS,\n",
              "// WITHOUT WARRANTIES OR CONDITIONS OF ANY KIND, either express or implied.\n",
              "// See the License for the specific language governing permissions and\n",
              "// limitations under the License.\n",
              "\n",
              "/**\n",
              " * @fileoverview Helpers for google.colab Python module.\n",
              " */\n",
              "(function(scope) {\n",
              "function span(text, styleAttributes = {}) {\n",
              "  const element = document.createElement('span');\n",
              "  element.textContent = text;\n",
              "  for (const key of Object.keys(styleAttributes)) {\n",
              "    element.style[key] = styleAttributes[key];\n",
              "  }\n",
              "  return element;\n",
              "}\n",
              "\n",
              "// Max number of bytes which will be uploaded at a time.\n",
              "const MAX_PAYLOAD_SIZE = 100 * 1024;\n",
              "\n",
              "function _uploadFiles(inputId, outputId) {\n",
              "  const steps = uploadFilesStep(inputId, outputId);\n",
              "  const outputElement = document.getElementById(outputId);\n",
              "  // Cache steps on the outputElement to make it available for the next call\n",
              "  // to uploadFilesContinue from Python.\n",
              "  outputElement.steps = steps;\n",
              "\n",
              "  return _uploadFilesContinue(outputId);\n",
              "}\n",
              "\n",
              "// This is roughly an async generator (not supported in the browser yet),\n",
              "// where there are multiple asynchronous steps and the Python side is going\n",
              "// to poll for completion of each step.\n",
              "// This uses a Promise to block the python side on completion of each step,\n",
              "// then passes the result of the previous step as the input to the next step.\n",
              "function _uploadFilesContinue(outputId) {\n",
              "  const outputElement = document.getElementById(outputId);\n",
              "  const steps = outputElement.steps;\n",
              "\n",
              "  const next = steps.next(outputElement.lastPromiseValue);\n",
              "  return Promise.resolve(next.value.promise).then((value) => {\n",
              "    // Cache the last promise value to make it available to the next\n",
              "    // step of the generator.\n",
              "    outputElement.lastPromiseValue = value;\n",
              "    return next.value.response;\n",
              "  });\n",
              "}\n",
              "\n",
              "/**\n",
              " * Generator function which is called between each async step of the upload\n",
              " * process.\n",
              " * @param {string} inputId Element ID of the input file picker element.\n",
              " * @param {string} outputId Element ID of the output display.\n",
              " * @return {!Iterable<!Object>} Iterable of next steps.\n",
              " */\n",
              "function* uploadFilesStep(inputId, outputId) {\n",
              "  const inputElement = document.getElementById(inputId);\n",
              "  inputElement.disabled = false;\n",
              "\n",
              "  const outputElement = document.getElementById(outputId);\n",
              "  outputElement.innerHTML = '';\n",
              "\n",
              "  const pickedPromise = new Promise((resolve) => {\n",
              "    inputElement.addEventListener('change', (e) => {\n",
              "      resolve(e.target.files);\n",
              "    });\n",
              "  });\n",
              "\n",
              "  const cancel = document.createElement('button');\n",
              "  inputElement.parentElement.appendChild(cancel);\n",
              "  cancel.textContent = 'Cancel upload';\n",
              "  const cancelPromise = new Promise((resolve) => {\n",
              "    cancel.onclick = () => {\n",
              "      resolve(null);\n",
              "    };\n",
              "  });\n",
              "\n",
              "  // Wait for the user to pick the files.\n",
              "  const files = yield {\n",
              "    promise: Promise.race([pickedPromise, cancelPromise]),\n",
              "    response: {\n",
              "      action: 'starting',\n",
              "    }\n",
              "  };\n",
              "\n",
              "  cancel.remove();\n",
              "\n",
              "  // Disable the input element since further picks are not allowed.\n",
              "  inputElement.disabled = true;\n",
              "\n",
              "  if (!files) {\n",
              "    return {\n",
              "      response: {\n",
              "        action: 'complete',\n",
              "      }\n",
              "    };\n",
              "  }\n",
              "\n",
              "  for (const file of files) {\n",
              "    const li = document.createElement('li');\n",
              "    li.append(span(file.name, {fontWeight: 'bold'}));\n",
              "    li.append(span(\n",
              "        `(${file.type || 'n/a'}) - ${file.size} bytes, ` +\n",
              "        `last modified: ${\n",
              "            file.lastModifiedDate ? file.lastModifiedDate.toLocaleDateString() :\n",
              "                                    'n/a'} - `));\n",
              "    const percent = span('0% done');\n",
              "    li.appendChild(percent);\n",
              "\n",
              "    outputElement.appendChild(li);\n",
              "\n",
              "    const fileDataPromise = new Promise((resolve) => {\n",
              "      const reader = new FileReader();\n",
              "      reader.onload = (e) => {\n",
              "        resolve(e.target.result);\n",
              "      };\n",
              "      reader.readAsArrayBuffer(file);\n",
              "    });\n",
              "    // Wait for the data to be ready.\n",
              "    let fileData = yield {\n",
              "      promise: fileDataPromise,\n",
              "      response: {\n",
              "        action: 'continue',\n",
              "      }\n",
              "    };\n",
              "\n",
              "    // Use a chunked sending to avoid message size limits. See b/62115660.\n",
              "    let position = 0;\n",
              "    do {\n",
              "      const length = Math.min(fileData.byteLength - position, MAX_PAYLOAD_SIZE);\n",
              "      const chunk = new Uint8Array(fileData, position, length);\n",
              "      position += length;\n",
              "\n",
              "      const base64 = btoa(String.fromCharCode.apply(null, chunk));\n",
              "      yield {\n",
              "        response: {\n",
              "          action: 'append',\n",
              "          file: file.name,\n",
              "          data: base64,\n",
              "        },\n",
              "      };\n",
              "\n",
              "      let percentDone = fileData.byteLength === 0 ?\n",
              "          100 :\n",
              "          Math.round((position / fileData.byteLength) * 100);\n",
              "      percent.textContent = `${percentDone}% done`;\n",
              "\n",
              "    } while (position < fileData.byteLength);\n",
              "  }\n",
              "\n",
              "  // All done.\n",
              "  yield {\n",
              "    response: {\n",
              "      action: 'complete',\n",
              "    }\n",
              "  };\n",
              "}\n",
              "\n",
              "scope.google = scope.google || {};\n",
              "scope.google.colab = scope.google.colab || {};\n",
              "scope.google.colab._files = {\n",
              "  _uploadFiles,\n",
              "  _uploadFilesContinue,\n",
              "};\n",
              "})(self);\n",
              "</script> "
            ]
          },
          "metadata": {}
        }
      ]
    },
    {
      "cell_type": "markdown",
      "source": [
        "Once the upload is complete, you can either read it as a file in Colab."
      ],
      "metadata": {
        "id": "vKfmLE2cdYfm"
      },
      "id": "vKfmLE2cdYfm"
    },
    {
      "cell_type": "markdown",
      "id": "11c95c14",
      "metadata": {
        "id": "11c95c14"
      },
      "source": [
        "#### Task 1: Load the data file and create a resilient distributed data (RDD) object. Please complete your code as follows."
      ]
    },
    {
      "cell_type": "code",
      "execution_count": 6,
      "id": "542dfc53",
      "metadata": {
        "id": "542dfc53"
      },
      "outputs": [],
      "source": [
        "rdd = sc.textFile('movie_reviews.tsv')"
      ]
    },
    {
      "cell_type": "markdown",
      "id": "884368c2",
      "metadata": {
        "id": "884368c2"
      },
      "source": [
        "Use the `filter` function to ignore the header row and flip the data to the `preprocess` function. Then, a new RDD object will be created.\n",
        "The `count` function returns the number of rows stored in the RDD object."
      ]
    },
    {
      "cell_type": "code",
      "execution_count": 7,
      "id": "b646dda1",
      "metadata": {
        "colab": {
          "base_uri": "https://localhost:8080/"
        },
        "id": "b646dda1",
        "outputId": "7b74993e-081c-468f-f1d8-3c44263b783a"
      },
      "outputs": [
        {
          "output_type": "execute_result",
          "data": {
            "text/plain": [
              "50000"
            ]
          },
          "metadata": {},
          "execution_count": 7
        }
      ],
      "source": [
        "reviews = rdd.filter(lambda x: x != 'review\\tsentiment').map(preprocess)\n",
        "reviews.count()"
      ]
    },
    {
      "cell_type": "markdown",
      "id": "7c398230",
      "metadata": {
        "id": "7c398230"
      },
      "source": [
        "We can also check what are stored in the RDD object by using the take function. Here we use the `take` function with 1 to get the first item. The parameter represents how many items you want to get from the RDD object."
      ]
    },
    {
      "cell_type": "markdown",
      "id": "4fc59c8d",
      "metadata": {
        "id": "4fc59c8d"
      },
      "source": [
        "Next, we use `filter` function to retrieve all rows with the positive sentiment and create a new RDD object. And, it stores the reviews without the sentiments.\n",
        "Let's also check how many positive reviews!"
      ]
    },
    {
      "cell_type": "code",
      "execution_count": 8,
      "id": "a9dfc4db",
      "metadata": {
        "colab": {
          "base_uri": "https://localhost:8080/"
        },
        "id": "a9dfc4db",
        "outputId": "df48eae5-0b61-40c8-c63f-03e1e9d42f38"
      },
      "outputs": [
        {
          "output_type": "execute_result",
          "data": {
            "text/plain": [
              "25000"
            ]
          },
          "metadata": {},
          "execution_count": 8
        }
      ],
      "source": [
        "posReviews = reviews.filter(lambda x: x[0] == 'positive').map(lambda x: x[1])\n",
        "posReviews.count()"
      ]
    },
    {
      "cell_type": "markdown",
      "id": "798b7ae0",
      "metadata": {
        "id": "798b7ae0"
      },
      "source": [
        "#### Task 2: Please take the first row of positive reviews. Please complete your code as follows."
      ]
    },
    {
      "cell_type": "code",
      "execution_count": 9,
      "id": "ac339a60",
      "metadata": {
        "colab": {
          "base_uri": "https://localhost:8080/"
        },
        "id": "ac339a60",
        "outputId": "6220dfb4-5acf-4d10-de43-5575e7e812a9"
      },
      "outputs": [
        {
          "output_type": "execute_result",
          "data": {
            "text/plain": [
              "[('positive',\n",
              "  \"One of the other reviewers has mentioned that after watching just 1 Oz episode you'll be hooked. They are right, as this is exactly what happened with me. The first thing that struck me about Oz was its brutality and unflinching scenes of violence, which set in right from the word GO. Trust me, this is not a show for the faint hearted or timid. This show pulls no punches with regards to drugs, sex or violence. Its is hardcore, in the classic use of the word. It is called OZ as that is the nickname given to the Oswald Maximum Security State Penitentary. It focuses mainly on Emerald City, an experimental section of the prison where all the cells have glass fronts and face inwards, so privacy is not high on the agenda. Em City is home to many..Aryans, Muslims, gangstas, Latinos, Christians, Italians, Irish and more....so scuffles, death stares, dodgy dealings and shady agreements are never far away. I would say the main appeal of the show is due to the fact that it goes where other shows wouldn't dare. Forget pretty pictures painted for mainstream audiences, forget charm, forget romance...OZ doesn't mess around. The first episode I ever saw struck me as so nasty it was surreal, I couldn't say I was ready for it, but as I watched more, I developed a taste for Oz, and got accustomed to the high levels of graphic violence. Not just violence, but injustice (crooked guards who'll be sold out for a nickel, inmates who'll kill on order and get away with it, well mannered, middle class inmates being turned into prison bitches due to their lack of street skills or prison experience) Watching Oz, you may become comfortable with what is uncomfortable viewing....thats if you can get in touch with your darker side.\")]"
            ]
          },
          "metadata": {},
          "execution_count": 9
        }
      ],
      "source": [
        "reviews.take(1)"
      ]
    },
    {
      "cell_type": "markdown",
      "id": "012a7782",
      "metadata": {
        "id": "012a7782"
      },
      "source": [
        "#### Task 3: Please a new RDD object for negative reviews. Please complete your code as follows."
      ]
    },
    {
      "cell_type": "code",
      "execution_count": 11,
      "id": "fc7cf131",
      "metadata": {
        "colab": {
          "base_uri": "https://localhost:8080/"
        },
        "id": "fc7cf131",
        "outputId": "fb9b496a-7e44-4a23-9c86-ef04829de229"
      },
      "outputs": [
        {
          "output_type": "execute_result",
          "data": {
            "text/plain": [
              "25000"
            ]
          },
          "metadata": {},
          "execution_count": 11
        }
      ],
      "source": [
        "negReviews = reviews.filter(lambda x: x[0] == 'negative').map(lambda x: x[1])\n",
        "negReviews.count()"
      ]
    },
    {
      "cell_type": "markdown",
      "id": "6df98249",
      "metadata": {
        "id": "6df98249"
      },
      "source": [
        "Besides, we can find the word frequency using the following simple steps:\n",
        "1. Define a function for splitting each line. It returns a list of words."
      ]
    },
    {
      "cell_type": "code",
      "execution_count": null,
      "id": "b8284226",
      "metadata": {
        "id": "b8284226"
      },
      "outputs": [],
      "source": [
        "def splitWords(line):\n",
        "    values = line.replace(',', ' ').replace('.', ' ').replace('\"', '').split(' ')\n",
        "    data = []\n",
        "    for v in values:\n",
        "        if len(v) > 0:\n",
        "            data.append(v)\n",
        "    return data"
      ]
    },
    {
      "cell_type": "markdown",
      "id": "c7e085d8",
      "metadata": {
        "id": "c7e085d8"
      },
      "source": [
        "2. Create a new RDD object from the original RDD object by using the `filter` function and the `splitWords` function."
      ]
    },
    {
      "cell_type": "code",
      "execution_count": null,
      "id": "ce7e2d7f",
      "metadata": {
        "id": "ce7e2d7f"
      },
      "outputs": [],
      "source": [
        "wordcounts = rdd.filter(lambda x: x != 'review\\tsentiment').flatMap(splitWords).map(lambda w: (w, 1)).reduceByKey(add)"
      ]
    },
    {
      "cell_type": "markdown",
      "id": "2323a883",
      "metadata": {
        "id": "2323a883"
      },
      "source": [
        "3. We sort data by the frequency (x[1], the column with index 1) in descending order and retrieve 10 items."
      ]
    },
    {
      "cell_type": "code",
      "execution_count": null,
      "id": "28d09751",
      "metadata": {
        "id": "28d09751"
      },
      "outputs": [],
      "source": [
        "wordcounts.takeOrdered(10, key=lambda x: -x[1])"
      ]
    },
    {
      "cell_type": "markdown",
      "id": "86ec67a9",
      "metadata": {
        "id": "86ec67a9"
      },
      "source": [
        "## After using Spark\n",
        "In the end, we should stop the Spark by using the `stop` function."
      ]
    },
    {
      "cell_type": "code",
      "execution_count": null,
      "id": "c9b7fa1e",
      "metadata": {
        "id": "c9b7fa1e"
      },
      "outputs": [],
      "source": [
        "sc.stop()"
      ]
    }
  ],
  "metadata": {
    "kernelspec": {
      "display_name": "Python 3 (ipykernel)",
      "language": "python",
      "name": "python3"
    },
    "language_info": {
      "codemirror_mode": {
        "name": "ipython",
        "version": 3
      },
      "file_extension": ".py",
      "mimetype": "text/x-python",
      "name": "python",
      "nbconvert_exporter": "python",
      "pygments_lexer": "ipython3",
      "version": "3.9.13"
    },
    "colab": {
      "provenance": []
    }
  },
  "nbformat": 4,
  "nbformat_minor": 5
}